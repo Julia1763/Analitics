{
 "cells": [
  {
   "cell_type": "markdown",
   "id": "59360fda",
   "metadata": {},
   "source": [
    "## Условие 2:\n",
    "### На складе лежат разные фрукты в разном количестве. Нужно написать функцию, которая на вход принимает любое количество названий фруктов и их количество, а возвращает общее количество фруктов на складе\n"
   ]
  },
  {
   "cell_type": "code",
   "execution_count": 32,
   "id": "2dbddecb",
   "metadata": {},
   "outputs": [],
   "source": [
    "def sum_of_fruits(**kwargs):\n",
    "    total=0\n",
    "    for key, value in kwargs.items():\n",
    "        total+=value\n",
    "    return f'Count = {total}'"
   ]
  },
  {
   "cell_type": "code",
   "execution_count": 33,
   "id": "0b88ea60",
   "metadata": {},
   "outputs": [
    {
     "data": {
      "text/plain": [
       "'Count = 20'"
      ]
     },
     "execution_count": 33,
     "metadata": {},
     "output_type": "execute_result"
    }
   ],
   "source": [
    "\n",
    "sum_of_fruits(banana=5, mango=7, apple=8)\n",
    "\n",
    "\n",
    " \n"
   ]
  },
  {
   "cell_type": "markdown",
   "id": "e0f0c4fa",
   "metadata": {},
   "source": [
    "## Условие 3:\n",
    "\n",
    "### Дан список с затратами на рекламу. Но в данных есть ошибки, некоторые затраты имеют отрицательную величину. Удалите такие значения из списка и посчитайте суммарные затраты.\n"
   ]
  },
  {
   "cell_type": "code",
   "execution_count": 35,
   "id": "f20e8c82",
   "metadata": {},
   "outputs": [
    {
     "name": "stdout",
     "output_type": "stream",
     "text": [
      "[100, 125, 345, 655, 0, 200]\n",
      "1425\n"
     ]
    }
   ],
   "source": [
    "expenses = [100, 125, -90, 345, 655, -1, 0, 200]\n",
    "abs_expenses = [i for i in expenses if i>=0]\n",
    "print(abs_expenses)\n",
    "sum_expenses = sum(abs_expenses)\n",
    "print(sum_expenses)"
   ]
  },
  {
   "cell_type": "markdown",
   "id": "fdb349df",
   "metadata": {},
   "source": [
    "## Условие 4:"
   ]
  },
  {
   "cell_type": "code",
   "execution_count": 49,
   "id": "c2131d1f",
   "metadata": {},
   "outputs": [
    {
     "name": "stdout",
     "output_type": "stream",
     "text": [
      "{'2021-09-14': 1270, '2021-12-15': 8413, '2021-09-08': 9028, '2021-12-05': 3703, '2021-10-09': 2732, '2021-09-30': 2008, '2021-12-22': 295, '2021-11-29': 4944, '2021-12-24': 5723, '2021-11-26': 3701, '2021-10-27': 4471, '2021-12-18': 651, '2021-11-09': 316, '2021-11-23': 4274, '2021-09-27': 6275, '2021-10-02': 4988, '2021-12-27': 6930, '2021-09-20': 2971, '2021-12-13': 6333, '2021-11-01': 2004, '2021-12-06': 519, '2021-12-08': 3406, '2021-10-31': 5015, '2021-10-26': 5700, '2021-12-09': 2887}\n",
      "{'09': 25647, '12': 45452, '10': 28645, '11': 25098}\n"
     ]
    }
   ],
   "source": [
    "purchase_date = ['2021-09-14', '2021-12-15', '2021-09-08', '2021-12-05', '2021-10-09', '2021-09-30', '2021-12-22', '2021-11-29', '2021-12-24', '2021-11-26', '2021-10-27', '2021-12-18', '2021-11-09', '2021-11-23', '2021-09-27', '2021-10-02', '2021-12-27', '2021-09-20', '2021-12-13', '2021-11-01', '2021-11-09', '2021-12-06', '2021-12-08', '2021-10-09', '2021-10-31', '2021-09-30', '2021-11-09', '2021-12-13', '2021-10-26', '2021-12-09']\n",
    "expenses = [1270, 8413, 9028, 3703, 5739, 4095, 295, 4944, 5723, 3701, 4471, 651, 7037, 4274, 6275, 4988, 6930, 2971, 6592, 2004, 2822, 519, 3406, 2732, 5015, 2008, 316, 6333, 5700, 2887]\n",
    "\n",
    "Cost_date = {purchase_date[i]:expenses[i] for i in range(len(purchase_date))}\n",
    "print(Cost_date)\n",
    "\n",
    "def sum_in_month(purchase_date: list, expenses: list) -> dict:\n",
    "    res = {}\n",
    "    for d, m in zip(purchase_date, expenses):\n",
    "        if d[5:7] in res.keys():\n",
    "            res[d[5:7]] = res[d[5:7]] + m\n",
    "        else:\n",
    "            res[d[5:7]] = m\n",
    "    return res\n",
    " \n",
    "print(sum_in_month(purchase_date, expenses))\n"
   ]
  },
  {
   "cell_type": "code",
   "execution_count": null,
   "id": "f41984cc",
   "metadata": {},
   "outputs": [],
   "source": []
  }
 ],
 "metadata": {
  "kernelspec": {
   "display_name": "Python 3 (ipykernel)",
   "language": "python",
   "name": "python3"
  },
  "language_info": {
   "codemirror_mode": {
    "name": "ipython",
    "version": 3
   },
   "file_extension": ".py",
   "mimetype": "text/x-python",
   "name": "python",
   "nbconvert_exporter": "python",
   "pygments_lexer": "ipython3",
   "version": "3.9.13"
  }
 },
 "nbformat": 4,
 "nbformat_minor": 5
}
